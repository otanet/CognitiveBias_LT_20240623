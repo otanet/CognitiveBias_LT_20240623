{
  "nbformat": 4,
  "nbformat_minor": 0,
  "metadata": {
    "colab": {
      "provenance": [],
      "authorship_tag": "ABX9TyNj/7GDLzCiF6+QvEtK78Hy",
      "include_colab_link": true
    },
    "kernelspec": {
      "name": "python3",
      "display_name": "Python 3"
    },
    "language_info": {
      "name": "python"
    }
  },
  "cells": [
    {
      "cell_type": "markdown",
      "metadata": {
        "id": "view-in-github",
        "colab_type": "text"
      },
      "source": [
        "<a href=\"https://colab.research.google.com/github/otanet/CognitiveBias_LT_20240623/blob/main/CognitiveBias_LT_20240622.ipynb\" target=\"_parent\"><img src=\"https://colab.research.google.com/assets/colab-badge.svg\" alt=\"Open In Colab\"/></a>"
      ]
    },
    {
      "cell_type": "markdown",
      "source": [
        "### 5.認知バイアスを考慮した場合としない場合のシミュレーション"
      ],
      "metadata": {
        "id": "9-1WHBjDdBDu"
      }
    },
    {
      "cell_type": "code",
      "source": [
        "import random\n",
        "\n",
        "def simulate_sales(customers, consider_bias=True):\n",
        "    sales = 0\n",
        "    for customer in customers:\n",
        "        if consider_bias:\n",
        "            # Adjust purchase probability based on bias consideration\n",
        "            if customer['bias'] == '損失回避バイアス':\n",
        "                purchase_prob = 0.7\n",
        "            elif customer['bias'] == '確証バイアス':\n",
        "                purchase_prob = 0.6\n",
        "            elif customer['bias'] == 'アンカリングバイアス':\n",
        "                purchase_prob = 0.8\n",
        "            elif customer['bias'] == 'バンドワゴン効果':\n",
        "                purchase_prob = 0.9\n",
        "            elif customer['bias'] == '現状維持バイアス':\n",
        "                purchase_prob = 0.5\n",
        "            elif customer['bias'] == '後知恵バイアス':\n",
        "                purchase_prob = 0.6\n",
        "            elif customer['bias'] == '利用可能性ヒューリスティック':\n",
        "                purchase_prob = 0.7\n",
        "            elif customer['bias'] == '確率の誤解':\n",
        "                purchase_prob = 0.75\n",
        "            elif customer['bias'] == 'フレーミング効果':\n",
        "                purchase_prob = 0.85\n",
        "            elif customer['bias'] == '自己奉仕バイアス':\n",
        "                purchase_prob = 0.65\n",
        "            else:\n",
        "                purchase_prob = 0.5\n",
        "        else:\n",
        "            # Default purchase probability without bias consideration\n",
        "            purchase_prob = 0.5\n",
        "\n",
        "        if random.random() < purchase_prob:\n",
        "            sales += 1\n",
        "    return sales\n",
        "\n",
        "# List of customers with different biases\n",
        "customers = [\n",
        "    {'bias': '損失回避バイアス'},\n",
        "    {'bias': '確証バイアス'},\n",
        "    {'bias': 'アンカリングバイアス'},\n",
        "    {'bias': 'バンドワゴン効果'},\n",
        "    {'bias': '現状維持バイアス'},\n",
        "    {'bias': '後知恵バイアス'},\n",
        "    {'bias': '利用可能性ヒューリスティック'},\n",
        "    {'bias': '確率の誤解'},\n",
        "    {'bias': 'フレーミング効果'},\n",
        "    {'bias': '自己奉仕バイアス'}\n",
        "]\n",
        "\n",
        "# Simulate sales with and without bias consideration\n",
        "sales_with_bias = simulate_sales(customers, consider_bias=True)\n",
        "sales_without_bias = simulate_sales(customers, consider_bias=False)\n",
        "\n",
        "print(f\"Sales with bias consideration: {sales_with_bias}\")\n",
        "print(f\"Sales without bias consideration: {sales_without_bias}\")\n"
      ],
      "metadata": {
        "colab": {
          "base_uri": "https://localhost:8080/"
        },
        "id": "_iSaF2f1dBQF",
        "outputId": "bbb1f454-1b7f-4fb5-ff26-8f33a06e79a6"
      },
      "execution_count": 2,
      "outputs": [
        {
          "output_type": "stream",
          "name": "stdout",
          "text": [
            "Sales with bias consideration: 7\n",
            "Sales without bias consideration: 4\n"
          ]
        }
      ]
    },
    {
      "cell_type": "markdown",
      "source": [
        "### コールセンターのペルソナ（事業者側）と消費者のペルソナ（受け手側）を設定して、認知バイアスの有無でシミュレーションしてみます。"
      ],
      "metadata": {
        "id": "iDsV7__Ojyw6"
      }
    },
    {
      "cell_type": "code",
      "source": [
        "import numpy as np\n",
        "import random\n",
        "\n",
        "# 消費者エージェントクラスの定義\n",
        "class Consumer:\n",
        "    def __init__(self, persona, bias=None):\n",
        "        self.persona = persona\n",
        "        self.bias = bias\n",
        "\n",
        "    def decide_purchase(self):\n",
        "        if self.bias:\n",
        "            if self.bias == '損失回避バイアス':\n",
        "                purchase_prob = 0.7\n",
        "            elif self.bias == '確証バイアス':\n",
        "                purchase_prob = 0.6\n",
        "            elif self.bias == 'アンカリングバイアス':\n",
        "                purchase_prob = 0.8\n",
        "            elif self.bias == 'バンドワゴン効果':\n",
        "                purchase_prob = 0.9\n",
        "            elif self.bias == '現状維持バイアス':\n",
        "                purchase_prob = 0.5\n",
        "            elif self.bias == '後知恵バイアス':\n",
        "                purchase_prob = 0.6\n",
        "            elif self.bias == '利用可能性ヒューリスティック':\n",
        "                purchase_prob = 0.7\n",
        "            elif self.bias == '確率の誤解':\n",
        "                purchase_prob = 0.75\n",
        "            elif self.bias == 'フレーミング効果':\n",
        "                purchase_prob = 0.85\n",
        "            elif self.bias == '自己奉仕バイアス':\n",
        "                purchase_prob = 0.65\n",
        "            else:\n",
        "                purchase_prob = 0.5\n",
        "        else:\n",
        "            purchase_prob = 0.5\n",
        "        return random.random() < purchase_prob\n",
        "\n",
        "# ペルソナの定義\n",
        "personas = [\n",
        "    '健康志向の高い女性',\n",
        "    '予算重視の主婦',\n",
        "    '高齢の健康管理者',\n",
        "    '忙しいビジネスマン',\n",
        "    '若いフィットネス愛好者'\n",
        "]\n",
        "\n",
        "# シミュレーション関数の定義\n",
        "def simulate_sales(num_consumers, consider_bias=True):\n",
        "    biases = ['損失回避バイアス', '確証バイアス', 'アンカリングバイアス', 'バンドワゴン効果',\n",
        "              '現状維持バイアス', '後知恵バイアス', '利用可能性ヒューリスティック', '確率の誤解',\n",
        "              'フレーミング効果', '自己奉仕バイアス']\n",
        "\n",
        "    consumers = []\n",
        "    for _ in range(num_consumers):\n",
        "        persona = random.choice(personas)\n",
        "        if consider_bias:\n",
        "            bias = random.choice(biases)\n",
        "        else:\n",
        "            bias = None\n",
        "        consumers.append(Consumer(persona, bias))\n",
        "\n",
        "    sales = 0\n",
        "    for consumer in consumers:\n",
        "        if consumer.decide_purchase():\n",
        "            sales += 1\n",
        "\n",
        "    return sales\n",
        "\n",
        "# シミュレーションの実行\n",
        "num_consumers = 1000\n",
        "sales_with_bias = simulate_sales(num_consumers, consider_bias=True)\n",
        "sales_without_bias = simulate_sales(num_consumers, consider_bias=False)\n",
        "\n",
        "print(f\"Sales with bias consideration: {sales_with_bias}\")\n",
        "print(f\"Sales without bias consideration: {sales_without_bias}\")\n"
      ],
      "metadata": {
        "colab": {
          "base_uri": "https://localhost:8080/"
        },
        "id": "0QRGLj1BdBTA",
        "outputId": "39813cec-742e-4ce5-de0e-b252ba6f18d7"
      },
      "execution_count": 3,
      "outputs": [
        {
          "output_type": "stream",
          "name": "stdout",
          "text": [
            "Sales with bias consideration: 702\n",
            "Sales without bias consideration: 510\n"
          ]
        }
      ]
    },
    {
      "cell_type": "code",
      "source": [],
      "metadata": {
        "id": "SsczJdtIjzaQ"
      },
      "execution_count": null,
      "outputs": []
    }
  ]
}